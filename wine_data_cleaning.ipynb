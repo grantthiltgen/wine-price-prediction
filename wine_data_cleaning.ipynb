{
 "cells": [
  {
   "cell_type": "code",
   "execution_count": 167,
   "metadata": {},
   "outputs": [],
   "source": [
    "import numpy as np\n",
    "import pandas as pd\n",
    "import pickle"
   ]
  },
  {
   "cell_type": "code",
   "execution_count": 168,
   "metadata": {},
   "outputs": [],
   "source": [
    "# Function for filling ABV variable\n",
    "\n",
    "def fill_ABV(df, varietal):\n",
    "    \n",
    "    \"\"\"This function is used to fill the ABV values that are 0.0. It does it by \n",
    "    splitting off the Varietal information into two data frames, finding the mean and \n",
    "    standard deviation of the data that contains the ABV value, then filling the empty \n",
    "    values with a draw from a random distribution.\n",
    "    \n",
    "    Required Inputs:\n",
    "    df: The pandas data frame containing the varietal and ABV information under columns\n",
    "    'varietal' and 'ABV'\n",
    "    \n",
    "    varietal: The varietal that you are interested in filling with random draws.\n",
    "    \n",
    "    returns: A pandas data frame with the missing values for ABV for the varietal of\n",
    "    interested filled with random draws.\"\"\"\n",
    "    \n",
    "    VarietalDF = df.loc[df['varietal'] == varietal]\n",
    "    AppendDF = df.loc[df['varietal'] != varietal]\n",
    "\n",
    "    is_ABV = [a > 0 for a in VarietalDF.ABV]\n",
    "    not_ABV = [a < 0.1 for a in VarietalDF.ABV]\n",
    "    ValueDF = VarietalDF[is_ABV]\n",
    "    ZeroDF = VarietalDF[not_ABV]\n",
    "\n",
    "    mean = ValueDF.ABV.mean()\n",
    "    std = ValueDF.ABV.std()\n",
    "    ZeroDF['ABV'] = np.random.normal(loc=mean, scale=std)\n",
    "    AppendDF = AppendDF.append(ValueDF)\n",
    "    AppendDF = AppendDF.append(ZeroDF)\n",
    "    return AppendDF"
   ]
  },
  {
   "cell_type": "code",
   "execution_count": 169,
   "metadata": {},
   "outputs": [],
   "source": [
    "#Read in the Cab Sauv data and the rest of the data from the text file. \n",
    "\n",
    "WineDF = pd.read_csv('data/AllData.txt')\n"
   ]
  },
  {
   "cell_type": "code",
   "execution_count": 170,
   "metadata": {},
   "outputs": [],
   "source": [
    "# Remove some of the extra information from when I poorly exported the CSV file\n",
    "\n",
    "WineDF['price'] = WineDF['price'].str.replace('[', '')\n",
    "WineDF['varietal'] = WineDF['varietal'].str.replace('\\'', '')\n",
    "WineDF['year'] = WineDF['year'].str.replace('\\'', '')\n",
    "WineDF['ABV'] = WineDF['ABV'].str.replace('\\'', '')\n",
    "WineDF['origin'] = WineDF['origin'].str.replace('\\'', '') \n",
    "WineDF['origin'] = WineDF['origin'].str.replace(']', '') \n",
    "WineDF['origin2'] = WineDF['origin2'].str.replace('\\'', '') \n",
    "WineDF['origin2'] = WineDF['origin2'].str.replace(']', '') \n",
    "WineDF['origin3'] = WineDF['origin3'].str.replace('\\'', '') \n",
    "WineDF['origin3'] = WineDF['origin3'].str.replace(']', '') \n",
    "WineDF['origin4'] = WineDF['origin4'].str.replace('\\'', '') \n",
    "WineDF['origin4'] = WineDF['origin4'].str.replace(']', '') \n",
    "WineDF['origin5'] = WineDF['origin5'].str.replace('\\'', '') \n",
    "WineDF['origin5'] = WineDF['origin5'].str.replace(']', '') "
   ]
  },
  {
   "cell_type": "code",
   "execution_count": 171,
   "metadata": {},
   "outputs": [],
   "source": [
    "# Convert columns to the appropriate data types\n",
    "\n",
    "WineDF['origin'] = pd.Series(WineDF['origin'], dtype='str')\n",
    "WineDF['origin2'] = pd.Series(WineDF['origin2'], dtype='str')\n",
    "WineDF['origin3'] = pd.Series(WineDF['origin3'], dtype='str')\n",
    "WineDF['origin4'] = pd.Series(WineDF['origin4'], dtype='str')\n",
    "WineDF['origin5'] = pd.Series(WineDF['origin5'], dtype='str')\n",
    "WineDF['price'] = pd.Series(WineDF['price'], dtype='float')\n",
    "WineDF['ABV'] = pd.Series(WineDF['ABV'], dtype='float')\n"
   ]
  },
  {
   "cell_type": "code",
   "execution_count": 172,
   "metadata": {},
   "outputs": [],
   "source": [
    "# Get rid of leading whitespace in columns that have it\n",
    "\n",
    "WineDF['year'] = WineDF['year'].str.lstrip()\n",
    "WineDF['varietal'] = WineDF['varietal'].str.lstrip()\n",
    "WineDF['origin'] = WineDF['origin'].str.lstrip()\n",
    "WineDF['origin2'] = WineDF['origin2'].str.lstrip()\n",
    "WineDF['origin3'] = WineDF['origin3'].str.lstrip()\n",
    "WineDF['origin4'] = WineDF['origin4'].str.lstrip()\n",
    "WineDF['origin5'] = WineDF['origin5'].str.lstrip()\n"
   ]
  },
  {
   "cell_type": "code",
   "execution_count": 173,
   "metadata": {
    "scrolled": true
   },
   "outputs": [],
   "source": [
    "# Find values in the year column that are numbers and drop all rows that contain strings. Then drop all years that \n",
    "# are not in the 1900s\n",
    "\n",
    "is_year = [a.isdigit() for a in WineDF.year]\n",
    "WineDF = WineDF[is_year]\n",
    "WineDF['year'] = pd.Series(WineDF['year'], dtype='int')\n",
    "WineDF = WineDF[WineDF['year'] > 1900]\n",
    "# Drop high price\n",
    "\n",
    "WineDF = WineDF[WineDF['price'] < 3000]\n",
    "# Drop ABV value of that is too high  as there is one with ABV 83 and one with 20\n",
    "\n",
    "WineDF = WineDF[WineDF['ABV'] < 20]"
   ]
  },
  {
   "cell_type": "code",
   "execution_count": 174,
   "metadata": {},
   "outputs": [
    {
     "name": "stderr",
     "output_type": "stream",
     "text": [
      "/home/grant/.local/lib/python3.7/site-packages/ipykernel_launcher.py:29: SettingWithCopyWarning: \n",
      "A value is trying to be set on a copy of a slice from a DataFrame.\n",
      "Try using .loc[row_indexer,col_indexer] = value instead\n",
      "\n",
      "See the caveats in the documentation: http://pandas.pydata.org/pandas-docs/stable/indexing.html#indexing-view-versus-copy\n"
     ]
    }
   ],
   "source": [
    "# Try to fill in ABV with a drawn from a normal distribution\n",
    "varietals = WineDF.varietal.unique()\n",
    "for varietal in varietals:\n",
    "    WineDF = fill_ABV(WineDF, varietal)"
   ]
  },
  {
   "cell_type": "code",
   "execution_count": 175,
   "metadata": {},
   "outputs": [],
   "source": [
    "WineDF = WineDF.reset_index()\n"
   ]
  },
  {
   "cell_type": "code",
   "execution_count": 176,
   "metadata": {},
   "outputs": [],
   "source": [
    "# Try to get the outermost origin information. For most places it is country, except for the US where it is state.\n",
    "\n",
    "columns = WineDF.columns[12:]"
   ]
  },
  {
   "cell_type": "code",
   "execution_count": 177,
   "metadata": {},
   "outputs": [],
   "source": [
    "# Obtain the information about where the wine comes from. It is the outermost origin column for most wines,\n",
    "# except using three extra California regions to help split the data some\n",
    "\n",
    "California_regions = ['Central Coast', 'Sonoma County', 'Napa Valley']\n",
    "origin = []\n",
    "for wine in range (0, len(WineDF)):\n",
    "    for ii in range(4,-1,-1):\n",
    "        if ii == 0:\n",
    "            origin.append(WineDF.at[wine, columns[ii]])\n",
    "        elif WineDF.at[wine, columns[ii]] != 'nan':\n",
    "            if WineDF.at[wine, columns[ii]] == 'California':\n",
    "                area = 'California'\n",
    "                for region in California_regions:\n",
    "                    if WineDF.at[wine, columns[ii - 1]] == region:\n",
    "                        area = (WineDF.at[wine, columns[ii-1]])\n",
    "                origin.append(area)\n",
    "                break\n",
    "            origin.append(WineDF.at[wine, columns[ii]])\n",
    "            break\n",
    "                "
   ]
  },
  {
   "cell_type": "code",
   "execution_count": 178,
   "metadata": {},
   "outputs": [
    {
     "name": "stderr",
     "output_type": "stream",
     "text": [
      "/home/grant/.local/lib/python3.7/site-packages/ipykernel_launcher.py:4: SettingWithCopyWarning: \n",
      "A value is trying to be set on a copy of a slice from a DataFrame.\n",
      "Try using .loc[row_indexer,col_indexer] = value instead\n",
      "\n",
      "See the caveats in the documentation: http://pandas.pydata.org/pandas-docs/stable/indexing.html#indexing-view-versus-copy\n",
      "  after removing the cwd from sys.path.\n"
     ]
    }
   ],
   "source": [
    "# Create a new dataframe only containing one origin column\n",
    "\n",
    "NewWineDF = WineDF[['price','varietal','year','ABV','is_green','is_collectable','is_boutique', 'is_screw', 'is_magnum', 'is_half', 'is_3L']]\n",
    "NewWineDF['origin'] = origin\n"
   ]
  },
  {
   "cell_type": "code",
   "execution_count": 179,
   "metadata": {},
   "outputs": [],
   "source": [
    "# Drop rows with 3 L bottles as there are not that many and drop 3L column\n",
    "\n",
    "NewWineDF = NewWineDF[NewWineDF['is_3L'] == 0]\n",
    "NewWineDF.drop(columns='is_3L', inplace = True)"
   ]
  },
  {
   "cell_type": "code",
   "execution_count": 180,
   "metadata": {},
   "outputs": [],
   "source": [
    "# Remove quote character from the origin column\n",
    "\n",
    "NewWineDF['origin'] = NewWineDF['origin'].str.replace('\"', '')\n"
   ]
  },
  {
   "cell_type": "code",
   "execution_count": 181,
   "metadata": {},
   "outputs": [],
   "source": [
    "# Turn the varietal and origin column into category in order to remove problems and merge categories.\n",
    "\n",
    "NewWineDF['varietal'] = pd.Series(NewWineDF['varietal'], dtype='category')\n",
    "NewWineDF['origin'] = pd.Series(NewWineDF['origin'], dtype='category')"
   ]
  },
  {
   "cell_type": "code",
   "execution_count": 182,
   "metadata": {},
   "outputs": [],
   "source": [
    "# Drop these varietals as they are all small\n",
    "\n",
    "NewWineDF = NewWineDF[NewWineDF['varietal'] != 'Rosé Sparkling Wine']\n",
    "NewWineDF = NewWineDF[NewWineDF['varietal'] != 'Red Sparkling Wine']\n",
    "NewWineDF = NewWineDF[NewWineDF['varietal'] != 'Non-Vintage Sparkling Wine']\n"
   ]
  },
  {
   "cell_type": "code",
   "execution_count": 183,
   "metadata": {},
   "outputs": [],
   "source": [
    "# Turn it back into a string\n",
    "\n",
    "NewWineDF['varietal'] = pd.Series(WineDF['varietal'], dtype='str')"
   ]
  },
  {
   "cell_type": "code",
   "execution_count": 184,
   "metadata": {},
   "outputs": [],
   "source": [
    "# Create a series in order to find origin where the counts are < 1% of the data and merge into the other category\n",
    "\n",
    "origin_series = NewWineDF.origin.value_counts()\n",
    "origin_mask = (origin_series/origin_series.sum() * 100).lt(1)\n",
    "# To replace df['column'] use np.where I.e \n",
    "NewWineDF['origin'] = np.where(NewWineDF['origin'].isin(series[mask].index),'Other',NewWineDF['origin'])\n",
    "\n",
    "# FUTURE WORK: This would be a good place to play around with the origins. Maybe merging all the small \n",
    "# types is not the right approach, maybe merging the types from different continents (e.g. combine all\n",
    "# South American wines into a single \"South America\" category) might be more useful!"
   ]
  },
  {
   "cell_type": "code",
   "execution_count": 185,
   "metadata": {},
   "outputs": [],
   "source": [
    "# Get rid of White Zin as there are only a few occurences.\n",
    "NewWineDF = NewWineDF[NewWineDF['varietal'] != 'White Zinfandel']"
   ]
  },
  {
   "cell_type": "code",
   "execution_count": 186,
   "metadata": {},
   "outputs": [],
   "source": [
    "# Get dummy variables for Varietal and Origin\n",
    "\n",
    "Varietals = pd.get_dummies(NewWineDF['varietal'])\n",
    "Varietals = Varietals.drop('Pinot Noir',axis=1)"
   ]
  },
  {
   "cell_type": "code",
   "execution_count": 187,
   "metadata": {},
   "outputs": [],
   "source": [
    "Origins = pd.get_dummies(NewWineDF['origin'])\n",
    "Origins = Origins.drop('California',axis=1)"
   ]
  },
  {
   "cell_type": "code",
   "execution_count": 188,
   "metadata": {},
   "outputs": [],
   "source": [
    "# Create new final data frame to use for analysis\n",
    "\n",
    "FinalWineDF = NewWineDF[['price','year','ABV','is_green','is_collectable','is_boutique', 'is_screw', 'is_magnum', 'is_half']]\n",
    "FinalWineDF = FinalWineDF.join(Varietals)\n",
    "FinalWineDF = FinalWineDF.join(Origins)"
   ]
  },
  {
   "cell_type": "code",
   "execution_count": 189,
   "metadata": {},
   "outputs": [
    {
     "data": {
      "text/plain": [
       "(8844, 36)"
      ]
     },
     "execution_count": 189,
     "metadata": {},
     "output_type": "execute_result"
    }
   ],
   "source": [
    "FinalWineDF.shape\n"
   ]
  },
  {
   "cell_type": "code",
   "execution_count": 190,
   "metadata": {},
   "outputs": [],
   "source": [
    "# Output dataframe to pickle to use for analysis\n",
    "\n",
    "with open('data/CaliforniaFullDF.pickle', 'wb') as to_write:\n",
    "    pickle.dump(FinalWineDF, to_write)"
   ]
  },
  {
   "cell_type": "code",
   "execution_count": null,
   "metadata": {},
   "outputs": [],
   "source": []
  }
 ],
 "metadata": {
  "kernelspec": {
   "display_name": "Python 3",
   "language": "python",
   "name": "python3"
  },
  "language_info": {
   "codemirror_mode": {
    "name": "ipython",
    "version": 3
   },
   "file_extension": ".py",
   "mimetype": "text/x-python",
   "name": "python",
   "nbconvert_exporter": "python",
   "pygments_lexer": "ipython3",
   "version": "3.7.0"
  }
 },
 "nbformat": 4,
 "nbformat_minor": 2
}
