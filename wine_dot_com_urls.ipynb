{
 "cells": [
  {
   "cell_type": "code",
   "execution_count": 46,
   "metadata": {},
   "outputs": [],
   "source": [
    "import time\n",
    "import requests\n",
    "import sys\n",
    "from selenium import webdriver\n",
    "from selenium.webdriver.common.keys import Keys\n",
    "import random\n",
    "from selenium.webdriver.common.action_chains import ActionChains"
   ]
  },
  {
   "cell_type": "code",
   "execution_count": 47,
   "metadata": {},
   "outputs": [],
   "source": [
    "chromedriver = \"/home/grant/chromedriver\" # path to the chromedriver executable\n",
    "os.environ[\"webdriver.chrome.driver\"] = chromedriver\n",
    "driver = webdriver.Chrome(chromedriver)"
   ]
  },
  {
   "cell_type": "code",
   "execution_count": 68,
   "metadata": {},
   "outputs": [],
   "source": [
    "# Go to the Cav Sauv URL on wine.com and begin scrolling down to collect urls for individual wines\n",
    "\n",
    "# This could be automated in a loop, but I wasn't sure how many varietals I was planning on using.\n",
    "\n",
    "#CabSauvURL = \"https://www.wine.com/list/wine/red-wine/cabernet-sauvignon/7155-124-139\"\n",
    "#BordBlendURL = 'https://www.wine.com/list/wine/red-wine/bordeaux-red-blends/7155-124-144'\n",
    "#PinotURL = 'https://www.wine.com/list/wine/red-wine/pinot-noir/7155-124-143'\n",
    "#SangURL = 'https://www.wine.com/list/wine/red-wine/sangiovese/7155-124-163'\n",
    "#SyrahURL = 'https://www.wine.com/list/wine/red-wine/syrah-shiraz/7155-124-146'\n",
    "#ZinURL = 'https://www.wine.com/list/wine/red-wine/zinfandel/7155-124-141'\n",
    "#ChardURL = 'https://www.wine.com/list/wine/white-wine/chardonnay/7155-125-140'\n",
    "#SauvBlancURL = 'https://www.wine.com/list/wine/white-wine/sauvignon-blanc/7155-125-151'\n",
    "#RieslingURL = 'https://www.wine.com/list/wine/white-wine/riesling/7155-125-153'\n",
    "#PinotGrisURL = 'https://www.wine.com/list/wine/white-wine/pinot-gris-grigio/7155-125-194'\n",
    "#SparklingURL = 'https://www.wine.com/list/wine/champagne-and-sparkling/7155-123'\n",
    "#RoseURL = 'https://www.wine.com/list/wine/rose-wine/7155-126'\n",
    "#RhoneURL = 'https://www.wine.com/list/wine/red-wine/rhone-blends/7155-124-10082'\n",
    "RedBlendURL = 'https://www.wine.com/list/wine/red-wine/other-red-blends/7155-124-145'\n",
    "# add other urls here and chage driver.get if you decide to use more wine types."
   ]
  },
  {
   "cell_type": "code",
   "execution_count": 69,
   "metadata": {},
   "outputs": [],
   "source": [
    "#driver.get(CabSauvURL)\n",
    "#driver.get(BordBlendURL)\n",
    "#driver.get(PinotURL)\n",
    "#driver.get(SangURL)\n",
    "#driver.get(SyrahURL)\n",
    "#driver.get(ZinURL)\n",
    "#driver.get(ChardURL)\n",
    "#driver.get(SauvBlancURL)\n",
    "#driver.get(RieslingURL)\n",
    "#driver.get(PinotGrisURL)\n",
    "#driver.get(SparklingURL)\n",
    "#driver.get(RoseURL)\n",
    "#driver.get(RhoneURL)\n",
    "driver.get(RedBlendURL)"
   ]
  },
  {
   "cell_type": "code",
   "execution_count": 70,
   "metadata": {},
   "outputs": [
    {
     "name": "stdout",
     "output_type": "stream",
     "text": [
      "0\n",
      "10\n",
      "20\n",
      "30\n",
      "40\n",
      "50\n",
      "60\n",
      "70\n",
      "80\n",
      "90\n",
      "100\n",
      "110\n",
      "120\n",
      "130\n",
      "140\n"
     ]
    }
   ],
   "source": [
    "# This starts scrolling down for URL collection. Be aware that there is a\n",
    "# Chat with Wine Expert box that may open up that will need to be shrunk\n",
    "# or the down arrow keys will send to that box instead of the scroll bar.\n",
    "\n",
    "# REMINDER REMINDER do not kill this ever or it will kill the page and\n",
    "# you WILL have to re-run!\n",
    "\n",
    "actions = ActionChains(driver)\n",
    "for ii in range(0, 150):\n",
    "    actions.send_keys(Keys.DOWN).perform()\n",
    "    if (ii % 10 == 0):\n",
    "        # Prints out a check to update on how far it has gotten through the loop\n",
    "        print(ii)"
   ]
  },
  {
   "cell_type": "code",
   "execution_count": 71,
   "metadata": {},
   "outputs": [],
   "source": [
    "\n",
    "outputFile = 'WineURLs.txt'"
   ]
  },
  {
   "cell_type": "code",
   "execution_count": 72,
   "metadata": {},
   "outputs": [],
   "source": [
    "# Find links on website for only the wine products of interest\n",
    "# Output the urls to a file so you never have to scrape the urls again!\n",
    "\n",
    "wine_selector = '//a[contains(@href, \"/product/\") and contains(@class, \"prodItemInfo_link\")]'\n",
    "wine_list = []\n",
    "wine_driver = driver.find_elements_by_xpath(wine_selector)\n",
    "for url in wine_driver:\n",
    "    wine_list.extend([url.get_attribute('href')])\n",
    "with open(outputFile, 'a+') as filehandle:  \n",
    "    filehandle.writelines(\"%s\\n\" % url for url in wine_list)    \n",
    "    "
   ]
  },
  {
   "cell_type": "code",
   "execution_count": 73,
   "metadata": {},
   "outputs": [],
   "source": [
    "driver.close()"
   ]
  },
  {
   "cell_type": "code",
   "execution_count": null,
   "metadata": {},
   "outputs": [],
   "source": []
  }
 ],
 "metadata": {
  "kernelspec": {
   "display_name": "Python 3",
   "language": "python",
   "name": "python3"
  },
  "language_info": {
   "codemirror_mode": {
    "name": "ipython",
    "version": 3
   },
   "file_extension": ".py",
   "mimetype": "text/x-python",
   "name": "python",
   "nbconvert_exporter": "python",
   "pygments_lexer": "ipython3",
   "version": "3.7.0"
  }
 },
 "nbformat": 4,
 "nbformat_minor": 2
}
